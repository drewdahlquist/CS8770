{
 "cells": [
  {
   "cell_type": "markdown",
   "id": "29c34e8d",
   "metadata": {},
   "source": [
    "# CS 8770 Project 1"
   ]
  },
  {
   "cell_type": "markdown",
   "id": "63b807eb",
   "metadata": {},
   "source": [
    "## Part 1"
   ]
  },
  {
   "cell_type": "markdown",
   "id": "ef965873",
   "metadata": {},
   "source": [
    "### Load libs"
   ]
  },
  {
   "cell_type": "code",
   "execution_count": 558,
   "id": "116e21ef",
   "metadata": {},
   "outputs": [],
   "source": [
    "import statistics\n",
    "\n",
    "import numpy as np\n",
    "import matplotlib\n",
    "import matplotlib.pyplot as plt\n",
    "\n",
    "import torch\n",
    "import torch.nn as nn\n",
    "import torch.nn.functional as F\n",
    "from torch.autograd import Variable\n",
    "from torch.autograd import Function\n",
    "import torch.optim as optim"
   ]
  },
  {
   "cell_type": "markdown",
   "id": "3360a734",
   "metadata": {},
   "source": [
    "### Load data"
   ]
  },
  {
   "cell_type": "code",
   "execution_count": 559,
   "id": "9369882d",
   "metadata": {},
   "outputs": [],
   "source": [
    "from torchvision import datasets\n",
    "from torchvision.transforms import ToTensor\n",
    "\n",
    "train_data = datasets.MNIST(\n",
    "    root='data',\n",
    "    train=True,\n",
    "    download=True,\n",
    "    transform=ToTensor())\n",
    "\n",
    "test_data = datasets.MNIST(\n",
    "    root=\"data\",\n",
    "    train=False,\n",
    "    download=True,\n",
    "    transform=ToTensor())"
   ]
  },
  {
   "cell_type": "code",
   "execution_count": 560,
   "id": "8cd324df",
   "metadata": {},
   "outputs": [],
   "source": [
    "from torch.utils.data import DataLoader\n",
    "\n",
    "batch_size = 64\n",
    "\n",
    "train_dl = DataLoader(train_data, batch_size=batch_size, shuffle=True)\n",
    "test_dl = DataLoader(test_data, batch_size=batch_size, shuffle=True)"
   ]
  },
  {
   "cell_type": "markdown",
   "id": "41dab3e1",
   "metadata": {},
   "source": [
    "### Model definitions"
   ]
  },
  {
   "cell_type": "code",
   "execution_count": 561,
   "id": "d3c90ea2",
   "metadata": {},
   "outputs": [],
   "source": [
    "class MLP(nn.Module):\n",
    "    \n",
    "    # H: list of hidden layer dims\n",
    "    # phi: non-linearity to use\n",
    "    def __init__(self, H, phi=nn.ReLU(), n_classes=10):\n",
    "        super(MLP, self).__init__()\n",
    "        self.flatten = nn.Flatten()\n",
    "        self.layers = nn.Sequential()\n",
    "        # create hidden layers based off input list H\n",
    "        H.insert(0,28*28) # input layer\n",
    "        [self.layers.append(nn.Linear(h,l)).append(phi) for h, l in zip(H,H[1:])] # hidden layers\n",
    "        self.layers.append(nn.Linear(H[-1],n_classes)) # output layer\n",
    "\n",
    "    def forward(self, x):\n",
    "        x = self.flatten(x) # 28x28 -> 1x784\n",
    "        logits = self.layers(x)\n",
    "        return logits"
   ]
  },
  {
   "cell_type": "code",
   "execution_count": 562,
   "id": "1c717e54",
   "metadata": {},
   "outputs": [],
   "source": [
    "class RBFNet(nn.Module):\n",
    "    \n",
    "    def __init__(self, clusters, n_classes=10):\n",
    "        super(RBFNet, self).__init__()\n",
    "        self.K = clusters.shape[0] # number of clusters/RBFs\n",
    "#         self.nout = 10\n",
    "        self.flatten = nn.Flatten()\n",
    "        self.sig = nn.Parameter(torch.ones(self.K,dtype=torch.float64, requires_grad=False))\n",
    "        self.mu = nn.Parameter(torch.from_numpy(clusters), requires_grad=False)\n",
    "#         self.w = nn.Parameter(torch.rand(self.K), requires_grad=True)\n",
    "#         self.b = nn.Parameter(torch.rand(self.nout), requires_grad=True)\n",
    "        self.lin = nn.Linear(self.K, n_classes)\n",
    "\n",
    "    def forward(self, x):\n",
    "        N = x.shape[0] # number of samples\n",
    "        x = self.flatten(x) # 28x28 -> 1x784\n",
    "        rbf_out = torch.zeros(N, self.K, dtype=torch.float32)\n",
    "        # RBF pass\n",
    "        for i in range(N):\n",
    "            for j in range(self.K):\n",
    "                top = (x[i,:]-self.mu[j:]).pow(2).sum().sqrt()\n",
    "                rbf_out[i,j] = torch.exp((-0.5)*(top.pow(2) / self.sig[j].pow(2)))\n",
    "        # Perceptron\n",
    "        # TODO: this should be softmax for multi-class?\n",
    "#         y_pred = torch.sigmoid(torch.mv(rbf_out,self.w)+torch.tensor([self.b]*N, dtype-torch.float64))\n",
    "        y_pred = self.lin(rbf_out)\n",
    "        return y_pred"
   ]
  },
  {
   "cell_type": "code",
   "execution_count": 674,
   "id": "2133d76c",
   "metadata": {},
   "outputs": [],
   "source": [
    "### This is me trying to tidy up the RBF network, not sure if it will work...\n",
    "\n",
    "# Single RBF Neuron\n",
    "class RBFNeuron(nn.Module):\n",
    "    \n",
    "    def __init__(self, mu, sig):\n",
    "        super(RBFNeuron, self).__init__()\n",
    "        self.mu = torch.tensor(mu)\n",
    "        self.sig = torch.tensor(sig)\n",
    "        \n",
    "    def __call__(self, x):\n",
    "        top = (x-self.mu).pow(2).sum(1).sqrt() # ||x-mu||\n",
    "        return torch.exp((-0.5)*(top / self.sig.pow(2)))\n",
    "    \n",
    "# Layer of RBF Neurons\n",
    "class RBFLayer(nn.Module):\n",
    "    \n",
    "    def __init__(self, nin, nout, mus, sigs):\n",
    "        super(RBFLayer, self).__init__()\n",
    "        self.neurons = nn.ModuleList([RBFNeuron(mus[i],sigs[i]) for i in range(nout)])\n",
    "        \n",
    "    def __call__(self, x):\n",
    "        return torch.tensor([f(x).numpy() for f in self.neurons], dtype=torch.float32).transpose(0,1)\n",
    "        \n",
    "# Full RBF Network\n",
    "class RBFNet(nn.Module):\n",
    "    \n",
    "    def __init__(self, clusters, n_classes=10):\n",
    "        super(RBFNet, self).__init__()\n",
    "        self.K = clusters.shape[0] # number of clusters/RBFs\n",
    "        self.mus = nn.Parameter(torch.from_numpy(clusters), requires_grad=False)\n",
    "        self.sigs = nn.Parameter(torch.ones(self.K,dtype=torch.float64, requires_grad=False))\n",
    "        self.flatten = nn.Flatten()\n",
    "        self.layers = nn.Sequential(\n",
    "            RBFLayer(28*28,self.K, self.mus, self.sigs),\n",
    "            nn.Linear(self.K,n_classes)\n",
    "        )\n",
    "\n",
    "    def forward(self, x):\n",
    "        x = self.flatten(x) # 28x28 -> 1x784\n",
    "        return self.layers(x)"
   ]
  },
  {
   "cell_type": "code",
   "execution_count": 675,
   "id": "745e3bd2",
   "metadata": {},
   "outputs": [
    {
     "name": "stderr",
     "output_type": "stream",
     "text": [
      "/var/folders/nl/b0l1g5b56h54lzcs1jywtm4h0000gn/T/ipykernel_69151/2784290641.py:8: UserWarning: To copy construct from a tensor, it is recommended to use sourceTensor.clone().detach() or sourceTensor.clone().detach().requires_grad_(True), rather than torch.tensor(sourceTensor).\n",
      "  self.mu = torch.tensor(mu)\n",
      "/var/folders/nl/b0l1g5b56h54lzcs1jywtm4h0000gn/T/ipykernel_69151/2784290641.py:9: UserWarning: To copy construct from a tensor, it is recommended to use sourceTensor.clone().detach() or sourceTensor.clone().detach().requires_grad_(True), rather than torch.tensor(sourceTensor).\n",
      "  self.sig = torch.tensor(sig)\n"
     ]
    },
    {
     "data": {
      "text/plain": [
       "torch.Size([64, 10])"
      ]
     },
     "execution_count": 675,
     "metadata": {},
     "output_type": "execute_result"
    }
   ],
   "source": [
    "x = torch.rand(64,28*28)\n",
    "mus = torch.rand(10,784)\n",
    "sigs = torch.rand(10)\n",
    "\n",
    "RBFLayer(nin=28*28,nout=10,mus=mus,sigs=sigs)(x).shape\n",
    "# RBFNeuron(mus[0],sigs[0])(x).shape"
   ]
  },
  {
   "cell_type": "code",
   "execution_count": 691,
   "id": "f1dd1c2e",
   "metadata": {},
   "outputs": [],
   "source": [
    "class CNN(nn.Module):\n",
    "    \n",
    "    def __init__(self, size, n_classes=10):\n",
    "        super(CNN, self).__init__()\n",
    "        self.flatten = nn.Flatten()\n",
    "        self.extract = nn.Sequential(\n",
    "            nn.Conv2d(in_channels=size, out_channels=2,\n",
    "                      kernel_size=3, stride=1, padding=1),\n",
    "            nn.ReLU(inplace=True),\n",
    "            nn.MaxPool2d(2),\n",
    "            nn.Dropout(0.2),\n",
    "            nn.Conv2d(in_channels=2, out_channels=4,\n",
    "                      kernel_size=3, stride=1, padding=1),\n",
    "            nn.ReLU(inplace=True),\n",
    "            nn.MaxPool2d(2),\n",
    "            nn.Dropout(0.2),\n",
    "#             nn.Conv2d(in_channels=4, out_channels=4,\n",
    "#                       kernel_size=3, stride=1, padding=1),\n",
    "#             nn.ReLU(inplace=True),\n",
    "# #             nn.MaxPool2d(2),\n",
    "#             nn.Dropout(0.2)\n",
    "        )\n",
    "        self.decimate = nn.Sequential(\n",
    "            nn.Linear(7*7*4, 12),\n",
    "            nn.ReLU(inplace = True),\n",
    "            nn.Dropout(0.2),\n",
    "            nn.Linear(12, n_classes)\n",
    "        )\n",
    "        \n",
    "    def forward(self, x):\n",
    "        x = self.extract(x)\n",
    "        x = self.flatten(x) # now, flatten 7x7x4 matrix to 1D array of 7*7*4 size\n",
    "        y_pred = self.decimate(x)\n",
    "        \n",
    "        return y_pred"
   ]
  },
  {
   "cell_type": "markdown",
   "id": "98222284",
   "metadata": {},
   "source": [
    "### Train (& validation / test?) loops"
   ]
  },
  {
   "cell_type": "code",
   "execution_count": 692,
   "id": "31b26434",
   "metadata": {},
   "outputs": [],
   "source": [
    "from tqdm.notebook import tqdm # status bar\n",
    "\n",
    "def train(model, data, loss_fn, epochs=5):\n",
    "    for epoch in range(epochs):\n",
    "\n",
    "        epoch_loss = []\n",
    "\n",
    "        for batch, (samples, labels) in enumerate(tqdm(data)):\n",
    "\n",
    "            # forward pass\n",
    "            prediction = model(samples)\n",
    "            loss = loss_fn(prediction, labels)\n",
    "            \n",
    "            # backprop\n",
    "            optimizer.zero_grad()\n",
    "            loss.backward()\n",
    "            optimizer.step()\n",
    "            \n",
    "            # record loss\n",
    "            epoch_loss.append(loss.item())\n",
    "\n",
    "        # keep track of loss over our batches\n",
    "#         epoch_loss = statistics.mean(epoch_loss)"
   ]
  },
  {
   "cell_type": "markdown",
   "id": "07b93356",
   "metadata": {},
   "source": [
    "### Fit models"
   ]
  },
  {
   "cell_type": "code",
   "execution_count": 685,
   "id": "8d426d3f",
   "metadata": {},
   "outputs": [],
   "source": [
    "# hyperparams\n",
    "learning_rate = 1e-3\n",
    "momentum = 0.3\n",
    "epochs = 5\n",
    "\n",
    "loss_fn = nn.CrossEntropyLoss()\n",
    "optimizer = optim.Adam(model.parameters(), lr=learning_rate)"
   ]
  },
  {
   "cell_type": "code",
   "execution_count": 688,
   "id": "9b583dbf",
   "metadata": {},
   "outputs": [
    {
     "data": {
      "application/vnd.jupyter.widget-view+json": {
       "model_id": "0bdaf91de9b944ed8f2cabe4c18be3ae",
       "version_major": 2,
       "version_minor": 0
      },
      "text/plain": [
       "  0%|          | 0/938 [00:00<?, ?it/s]"
      ]
     },
     "metadata": {},
     "output_type": "display_data"
    },
    {
     "data": {
      "application/vnd.jupyter.widget-view+json": {
       "model_id": "295c4ba06d714832b39e1475369cee77",
       "version_major": 2,
       "version_minor": 0
      },
      "text/plain": [
       "  0%|          | 0/938 [00:00<?, ?it/s]"
      ]
     },
     "metadata": {},
     "output_type": "display_data"
    },
    {
     "data": {
      "application/vnd.jupyter.widget-view+json": {
       "model_id": "a5e3a8d3f5d74a49886e31bdc04d5fb1",
       "version_major": 2,
       "version_minor": 0
      },
      "text/plain": [
       "  0%|          | 0/938 [00:00<?, ?it/s]"
      ]
     },
     "metadata": {},
     "output_type": "display_data"
    },
    {
     "data": {
      "application/vnd.jupyter.widget-view+json": {
       "model_id": "c09aaf4809b24a9aabd8e3db69eeb565",
       "version_major": 2,
       "version_minor": 0
      },
      "text/plain": [
       "  0%|          | 0/938 [00:00<?, ?it/s]"
      ]
     },
     "metadata": {},
     "output_type": "display_data"
    },
    {
     "data": {
      "application/vnd.jupyter.widget-view+json": {
       "model_id": "093e0637251e4ef29bc61f38f18fa285",
       "version_major": 2,
       "version_minor": 0
      },
      "text/plain": [
       "  0%|          | 0/938 [00:00<?, ?it/s]"
      ]
     },
     "metadata": {},
     "output_type": "display_data"
    }
   ],
   "source": [
    "# instantiate model(s)\n",
    "mlp_model = MLP([512,512], nn.ReLU(), n_classes=10)\n",
    "\n",
    "train(mlp_model, train_dl, loss_fn, epochs=epochs)"
   ]
  },
  {
   "cell_type": "code",
   "execution_count": 595,
   "id": "4d9d4e91",
   "metadata": {},
   "outputs": [],
   "source": [
    "from sklearn.cluster import KMeans\n",
    "\n",
    "kmeans = KMeans(10, init='k-means++', n_init='auto', random_state=0)\n",
    "kmeans.fit(train_data.data.flatten(1))\n",
    "# klabels = kmeans.predict(train_data.data.flatten(1))\n",
    "clusters = kmeans.cluster_centers_.astype(float)"
   ]
  },
  {
   "cell_type": "code",
   "execution_count": 679,
   "id": "6e7da515",
   "metadata": {},
   "outputs": [
    {
     "name": "stderr",
     "output_type": "stream",
     "text": [
      "/var/folders/nl/b0l1g5b56h54lzcs1jywtm4h0000gn/T/ipykernel_69151/2784290641.py:8: UserWarning: To copy construct from a tensor, it is recommended to use sourceTensor.clone().detach() or sourceTensor.clone().detach().requires_grad_(True), rather than torch.tensor(sourceTensor).\n",
      "  self.mu = torch.tensor(mu)\n",
      "/var/folders/nl/b0l1g5b56h54lzcs1jywtm4h0000gn/T/ipykernel_69151/2784290641.py:9: UserWarning: To copy construct from a tensor, it is recommended to use sourceTensor.clone().detach() or sourceTensor.clone().detach().requires_grad_(True), rather than torch.tensor(sourceTensor).\n",
      "  self.sig = torch.tensor(sig)\n"
     ]
    },
    {
     "data": {
      "application/vnd.jupyter.widget-view+json": {
       "model_id": "bd0433a534bc47e1863da15d01a8c090",
       "version_major": 2,
       "version_minor": 0
      },
      "text/plain": [
       "  0%|          | 0/938 [00:00<?, ?it/s]"
      ]
     },
     "metadata": {},
     "output_type": "display_data"
    },
    {
     "data": {
      "application/vnd.jupyter.widget-view+json": {
       "model_id": "603594d29ad64a5a8a453a0c8dd21336",
       "version_major": 2,
       "version_minor": 0
      },
      "text/plain": [
       "  0%|          | 0/938 [00:00<?, ?it/s]"
      ]
     },
     "metadata": {},
     "output_type": "display_data"
    }
   ],
   "source": [
    "rbf_model = RBFNet(clusters, n_classes=10)\n",
    "\n",
    "rbf_model\n",
    "\n",
    "train(rbf_model, train_dl, loss_fn, epochs=epochs)"
   ]
  },
  {
   "cell_type": "code",
   "execution_count": 693,
   "id": "6d92e9f2",
   "metadata": {},
   "outputs": [
    {
     "data": {
      "application/vnd.jupyter.widget-view+json": {
       "model_id": "1fb0c2eb91bd40c98fcdbb25d7be64bd",
       "version_major": 2,
       "version_minor": 0
      },
      "text/plain": [
       "  0%|          | 0/938 [00:00<?, ?it/s]"
      ]
     },
     "metadata": {},
     "output_type": "display_data"
    },
    {
     "data": {
      "application/vnd.jupyter.widget-view+json": {
       "model_id": "ed20b72719c040919895a3f2d1d083a1",
       "version_major": 2,
       "version_minor": 0
      },
      "text/plain": [
       "  0%|          | 0/938 [00:00<?, ?it/s]"
      ]
     },
     "metadata": {},
     "output_type": "display_data"
    },
    {
     "data": {
      "application/vnd.jupyter.widget-view+json": {
       "model_id": "7a36e81849d848c9acf3c0202ff1497a",
       "version_major": 2,
       "version_minor": 0
      },
      "text/plain": [
       "  0%|          | 0/938 [00:00<?, ?it/s]"
      ]
     },
     "metadata": {},
     "output_type": "display_data"
    },
    {
     "data": {
      "application/vnd.jupyter.widget-view+json": {
       "model_id": "4cd065feb4ff4118822dabc312bb8e44",
       "version_major": 2,
       "version_minor": 0
      },
      "text/plain": [
       "  0%|          | 0/938 [00:00<?, ?it/s]"
      ]
     },
     "metadata": {},
     "output_type": "display_data"
    },
    {
     "data": {
      "application/vnd.jupyter.widget-view+json": {
       "model_id": "41722b33ab1b4848949583acb76d916f",
       "version_major": 2,
       "version_minor": 0
      },
      "text/plain": [
       "  0%|          | 0/938 [00:00<?, ?it/s]"
      ]
     },
     "metadata": {},
     "output_type": "display_data"
    }
   ],
   "source": [
    "cnn_model = CNN(1, n_classes=10)\n",
    "\n",
    "train(cnn_model, train_dl, loss_fn, epochs=epochs)"
   ]
  },
  {
   "cell_type": "markdown",
   "id": "83ea7212",
   "metadata": {},
   "source": [
    "### Results"
   ]
  },
  {
   "cell_type": "code",
   "execution_count": 694,
   "id": "3f509d75",
   "metadata": {},
   "outputs": [
    {
     "data": {
      "application/vnd.jupyter.widget-view+json": {
       "model_id": "cf86336d1d7c4b999a30f925419fea95",
       "version_major": 2,
       "version_minor": 0
      },
      "text/plain": [
       "  0%|          | 0/10000 [00:00<?, ?it/s]"
      ]
     },
     "metadata": {},
     "output_type": "display_data"
    },
    {
     "data": {
      "image/png": "[encoded data removed]",
      "text/plain": [
       "<Figure size 1000x700 with 2 Axes>"
      ]
     },
     "metadata": {},
     "output_type": "display_data"
    }
   ],
   "source": [
    "import seaborn as sn\n",
    "import pandas as pd\n",
    "\n",
    "# resub because we are loading our MNIST training data set\n",
    "test_dl_2 = DataLoader(dataset=test_data, shuffle=True, batch_size=1)\n",
    "\n",
    "model = mlp_model\n",
    "\n",
    "# how did we do...\n",
    "ConfusionMatrix = torch.zeros((10,10))\n",
    "for sample, label in tqdm(test_dl_2):\n",
    "    # what is its label?\n",
    "    label = int(label.numpy())\n",
    "    #print(\"Real label is\")\n",
    "    #print(label)\n",
    "    # convert the sample (image) to a tensor for PyTorch\n",
    "    sample = sample.type('torch.FloatTensor')\n",
    "    # do forward pass (i.e., prediction)\n",
    "    prediction = model(sample)\n",
    "    # take the largest output and return integer of which it was (make a classification decision)\n",
    "    prediction = int(torch.argmax(prediction).numpy())\n",
    "    # what was our prediction?\n",
    "    #print(prediction)\n",
    "    ConfusionMatrix[label,prediction] += 1\n",
    "    \n",
    "df_cm = pd.DataFrame(np.asarray(ConfusionMatrix), index = [i for i in \"0123456789\"],\n",
    "                  columns = [i for i in \"0123456789\"])\n",
    "plt.figure(figsize = (10,7))\n",
    "sn.heatmap(df_cm, annot=True)\n",
    "plt.show()"
   ]
  }
 ],
 "metadata": {
  "kernelspec": {
   "display_name": "Python 3 (ipykernel)",
   "language": "python",
   "name": "python3"
  },
  "language_info": {
   "codemirror_mode": {
    "name": "ipython",
    "version": 3
   },
   "file_extension": ".py",
   "mimetype": "text/x-python",
   "name": "python",
   "nbconvert_exporter": "python",
   "pygments_lexer": "ipython3",
   "version": "3.10.9"
  }
 },
 "nbformat": 4,
 "nbformat_minor": 5
}
